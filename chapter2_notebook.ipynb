{
 "cells": [
  {
   "cell_type": "code",
   "execution_count": null,
   "metadata": {},
   "outputs": [],
   "source": [
    "x = [1,2,3,4]\n",
    "f_sum = 0\n",
    "\n",
    "for i in x:\n",
    "    f = (3-i)/2\n",
    "    f_sum = f_sum+f\n",
    "\n",
    "print(f_sum)\n"
   ]
  },
  {
   "cell_type": "code",
   "execution_count": null,
   "metadata": {},
   "outputs": [],
   "source": [
    "y = [0,1,2,3]\n",
    "f2_sum = 0\n",
    "\n",
    "for j in y:\n",
    "    f2 = (j**2+j+1)/25\n",
    "    f2_sum = f2_sum + f2\n",
    "\n",
    "print(f2_sum)"
   ]
  },
  {
   "cell_type": "code",
   "execution_count": null,
   "metadata": {},
   "outputs": [],
   "source": [
    "import scipy.integrate as integrate\n",
    "import numpy as np\n",
    "\n",
    "# 적분할 함수 정의\n",
    "def f(x):\n",
    "    return np.exp(-x)\n",
    "\n",
    "# 0에서 무한대까지 적분 수행\n",
    "result, error = integrate.quad(f, 0, np.inf)\n",
    "\n",
    "print(\"적분 결과:\", result)\n",
    "print(\"오차 추정:\", error)\n",
    "\n",
    "results2, error = integrate.quad(f, 1,2)\n",
    "\n",
    "print(\"1-2까지 적분 결과과:\", results2)"
   ]
  },
  {
   "cell_type": "code",
   "execution_count": null,
   "metadata": {},
   "outputs": [],
   "source": [
    "import scipy.integrate as spi\n",
    "\n",
    "# Define the probability density function (PDF) for uniform distribution\n",
    "def uniform_pdf(x):\n",
    "    return 1 if 0 <= x <= 1 else 0\n",
    "\n",
    "# Integrate the PDF over its domain [0, 1]\n",
    "area, error = spi.quad(uniform_pdf, 1/4, 1/2)\n",
    "\n",
    "print(f\"Integrated area: {area:.2f}\")  # Should print 1.00\n",
    "print(f\"Integration error estimate: {error:.2e}\")\n"
   ]
  }
 ],
 "metadata": {
  "language_info": {
   "name": "python"
  }
 },
 "nbformat": 4,
 "nbformat_minor": 2
}
