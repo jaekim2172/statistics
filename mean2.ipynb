{
 "cells": [
  {
   "cell_type": "code",
   "execution_count": null,
   "metadata": {},
   "outputs": [],
   "source": [
    "# Python statistics module 예제\n",
    "\n",
    "# statistics module import 하여 포함된 function을 사용하기기\n",
    "import statistics\n"
   ]
  },
  {
   "cell_type": "code",
   "execution_count": null,
   "metadata": {},
   "outputs": [],
   "source": [
    "# 아래 자료를 이용해서 mean, median(중간값값), mode (최빈값)를 구해보자\n",
    "\n",
    "data = [2, 5, 3, 8, 7, 5, 9, 5, 4]\n",
    "\n",
    "# 데이터를 작은 수에서 큰 수로 정렬 (data sort)\n",
    "data_sorted = sorted(data)\n",
    "\n",
    "# f-string 을 이용한 data format\n",
    "# 형식은 f\"표현: {변수}\" 형식으로 표출\n",
    "\n",
    "print(f\"정렬된 데이터: {data_sorted}\")\n"
   ]
  },
  {
   "cell_type": "code",
   "execution_count": null,
   "metadata": {},
   "outputs": [],
   "source": [
    "# 평균(mean) 계산\n",
    "mean_value = statistics.mean(data_sorted)\n",
    "print(f\"평균(mean): {mean_value}\")\n",
    "\n",
    "# 중앙값(median) 계산\n",
    "median_value = statistics.median(data_sorted)\n",
    "print(f\"중앙값(median): {median_value}\")\n",
    "\n",
    "# 최빈값(mode) 계산\n",
    "mode_value = statistics.mode(data_sorted)\n",
    "print(f\"최빈값(mode): {mode_value}\")"
   ]
  },
  {
   "cell_type": "code",
   "execution_count": null,
   "metadata": {},
   "outputs": [
    {
     "name": "stdout",
     "output_type": "stream",
     "text": [
      "    city  temp\n",
      "0  city1   2.3\n",
      "1  city2   0.4\n",
      "2  city3  11.2\n"
     ]
    }
   ],
   "source": [
    "# folder에서 data file을 읽어서 계산하는 방법\n",
    "# temp.csv file을 읽는 방법\n",
    "\n",
    "import pandas as pd\n",
    "\n",
    "df = pd.read_csv(\"temp.csv\") # data header 가 있는 경우\n",
    "# df = pd.read_csv(\"temp.csv\", header = None) : column에 data 를 설명하는 header가 없을때때\n",
    "print(df.head(3))\n"
   ]
  },
  {
   "cell_type": "code",
   "execution_count": 27,
   "metadata": {},
   "outputs": [
    {
     "name": "stdout",
     "output_type": "stream",
     "text": [
      "5.75\n",
      "6.1\n",
      "0    7.3\n",
      "Name: temp, dtype: float64\n",
      "[-2.3, 0.4, 2.3, 3.5, 5.7, 5.9, 6.3, 7.3, 7.3, 8.2, 11.2, 13.2]\n"
     ]
    }
   ],
   "source": [
    "df_sorted = sorted(df[\"temp\"])\n",
    "\n",
    "mean_temp = df[\"temp\"].mean()\n",
    "median_temp = df[\"temp\"].median()\n",
    "mode_temp = df[\"temp\"].mode()\n",
    "print(mean_temp)\n",
    "print(median_temp)\n",
    "print(mode_temp)\n",
    "print(df_sorted)"
   ]
  }
 ],
 "metadata": {
  "kernelspec": {
   "display_name": "base",
   "language": "python",
   "name": "python3"
  },
  "language_info": {
   "codemirror_mode": {
    "name": "ipython",
    "version": 3
   },
   "file_extension": ".py",
   "mimetype": "text/x-python",
   "name": "python",
   "nbconvert_exporter": "python",
   "pygments_lexer": "ipython3",
   "version": "3.12.7"
  }
 },
 "nbformat": 4,
 "nbformat_minor": 2
}
