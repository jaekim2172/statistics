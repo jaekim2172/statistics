{
 "cells": [
  {
   "cell_type": "markdown",
   "metadata": {},
   "source": [
    "입력되 2개의 숫자를 이용하여 사칙연산을 하는 code"
   ]
  },
  {
   "cell_type": "code",
   "execution_count": 27,
   "metadata": {},
   "outputs": [
    {
     "name": "stdout",
     "output_type": "stream",
     "text": [
      "5\n"
     ]
    }
   ],
   "source": [
    "def add(a,b):\n",
    "    return a+b\n",
    "\n",
    "num1 = int(input(\"enter the first number:\"))\n",
    "num2 = int(input(\"enter the second number:\"))\n",
    "\n",
    "add_up = add(num1, num2)\n",
    "print(add_up)"
   ]
  },
  {
   "cell_type": "markdown",
   "metadata": {},
   "source": [
    "* 곱하기와 나누기를 계산하는 code 만들어보기기"
   ]
  },
  {
   "cell_type": "markdown",
   "metadata": {},
   "source": [
    "월 수입을 1년 수입으로 계산하고 income의 30%를 세금으로 납부하는 code"
   ]
  },
  {
   "cell_type": "code",
   "execution_count": 24,
   "metadata": {},
   "outputs": [],
   "source": [
    "def yearly_income(monthly_in):\n",
    "    return monthly_in * 12\n",
    "\n",
    "def cal_tax(income):\n",
    "    return income * 0.3"
   ]
  },
  {
   "cell_type": "code",
   "execution_count": 25,
   "metadata": {},
   "outputs": [
    {
     "name": "stdout",
     "output_type": "stream",
     "text": [
      "Your annual income is: 60000.0\n",
      "Your tax is: 18000.0\n"
     ]
    }
   ],
   "source": [
    "monthly_in = float(input(\"Enter monthly income: \"))  # 사용자 입력 받기\n",
    "annual_income = yearly_income(monthly_in)  # 연 소득 계산\n",
    "tax = cal_tax(annual_income)  # 세금 계산\n",
    "\n",
    "print(\"Your annual income is:\", annual_income)\n",
    "print(\"Your tax is:\", tax)"
   ]
  },
  {
   "cell_type": "markdown",
   "metadata": {},
   "source": [
    "if와 else\n",
    "\n",
    "if 조건:\n",
    "    실행할 코드 (조건이 참일 때)\n",
    "else:\n",
    "    실행할 코드 (조건이 거짓일 때)"
   ]
  },
  {
   "cell_type": "code",
   "execution_count": null,
   "metadata": {},
   "outputs": [],
   "source": [
    "temperature = int(input(\"enter temperature:\"))\n",
    "\n",
    "if temperature >= 20:\n",
    "    print(\"오늘은 따뜻한 날씨입니다.\")\n",
    "else:\n",
    "    print(\"오늘은 쌀쌀한 날씨입니다.\")"
   ]
  },
  {
   "cell_type": "markdown",
   "metadata": {},
   "source": [
    "if - elif - else\n",
    "\n",
    "if 조건1:\n",
    "    실행할 코드1\n",
    "elif 조건2:\n",
    "    실행할 코드2\n",
    "else:\n",
    "    실행할 코드3 (위 조건이 모두 거짓일 때)"
   ]
  },
  {
   "cell_type": "code",
   "execution_count": null,
   "metadata": {},
   "outputs": [],
   "source": [
    "score = int(input(\"enter your score:\"))\n",
    "\n",
    "if score >= 90:\n",
    "    print(\"A 학점입니다.\")\n",
    "elif score >= 80:\n",
    "    print(\"B 학점입니다.\")\n",
    "elif score >= 70:\n",
    "    print(\"C 학점입니다.\")\n",
    "else:\n",
    "    print(\"F 학점입니다.\")"
   ]
  },
  {
   "cell_type": "markdown",
   "metadata": {},
   "source": [
    "* python standard library\n"
   ]
  },
  {
   "cell_type": "code",
   "execution_count": 31,
   "metadata": {},
   "outputs": [
    {
     "name": "stdout",
     "output_type": "stream",
     "text": [
      "6\n",
      "12\n",
      "4\n"
     ]
    }
   ],
   "source": [
    "x = [1, 2, 3, 6]\n",
    "max_data = max(x)\n",
    "print(max_data)\n",
    "\n",
    "total = sum(x)\n",
    "print(total)\n",
    "\n",
    "numbers = len(x)\n",
    "print(numbers)\n"
   ]
  },
  {
   "cell_type": "markdown",
   "metadata": {},
   "source": [
    "* Casino Game code\n",
    "casino 가 0부터 10까지의 random number을 생성하면 내가 choice 한것과 맞은면 win, 작그나 크면 \n",
    "알려주는 code"
   ]
  },
  {
   "cell_type": "code",
   "execution_count": null,
   "metadata": {},
   "outputs": [],
   "source": [
    "import random\n",
    "\n",
    "casino_choice = random.randint(0, 10)\n"
   ]
  },
  {
   "cell_type": "code",
   "execution_count": null,
   "metadata": {},
   "outputs": [],
   "source": [
    "# 사용자 입력 받기\n",
    "my_choice = int(input(\"Enter your choice (0-10): \"))\n",
    "\n",
    "# 결과 비교 및 출력\n",
    "if my_choice == casino_choice:\n",
    "    print(\"Win!\")\n",
    "elif my_choice < casino_choice:\n",
    "    print(\"Your choice is smaller than casino_choice.\")\n",
    "else:\n",
    "    print(\"Your choice is larger than casino_choice.\")\n",
    "\n",
    "# (추가) Casino의 선택을 보여주기\n",
    "print(f\"Casino choice was: {casino_choice}\")"
   ]
  },
  {
   "cell_type": "markdown",
   "metadata": {},
   "source": [
    "*python for 문 강의 자료\n",
    "\n",
    "1. for 문 개요\n",
    "Python의 for 문은 반복(iteration)을 수행하는 기본적인 제어문입니다. 주어진 시퀀스(리스트, 튜플, 문자열 등) 의 각 요소를 순차적으로 순회하며 특정 작업을 수행할 때 사용됩니다.\n",
    "\n",
    "2. 기본 문법\n",
    "for 변수 in 반복할_대상:\n",
    "    실행할 코드"
   ]
  },
  {
   "cell_type": "code",
   "execution_count": 1,
   "metadata": {},
   "outputs": [
    {
     "name": "stdout",
     "output_type": "stream",
     "text": [
      "apple\n",
      "banana\n",
      "cherry\n"
     ]
    }
   ],
   "source": [
    "# 예제 1: list 순회\n",
    "fruits = ['apple', 'banana', 'cherry']\n",
    "for fruit in fruits:\n",
    "    print(fruit)"
   ]
  },
  {
   "cell_type": "code",
   "execution_count": 2,
   "metadata": {},
   "outputs": [
    {
     "name": "stdout",
     "output_type": "stream",
     "text": [
      "P\n",
      "y\n",
      "t\n",
      "h\n",
      "o\n",
      "n\n"
     ]
    }
   ],
   "source": [
    "# 예제 2: 문자열 순회\n",
    "for char in \"Python\":\n",
    "    print(char)"
   ]
  },
  {
   "cell_type": "code",
   "execution_count": 3,
   "metadata": {},
   "outputs": [
    {
     "name": "stdout",
     "output_type": "stream",
     "text": [
      "1\n",
      "2\n",
      "3\n",
      "4\n"
     ]
    }
   ],
   "source": [
    "# 예제 3: 1부터 4까지 반복\n",
    "for i in range(1, 5):\n",
    "    print(i)"
   ]
  },
  {
   "cell_type": "code",
   "execution_count": 4,
   "metadata": {},
   "outputs": [
    {
     "name": "stdout",
     "output_type": "stream",
     "text": [
      "0\n",
      "2\n",
      "4\n",
      "6\n",
      "8\n"
     ]
    }
   ],
   "source": [
    "# 예제 4: 0부터 9까지 2씩 증가\n",
    "for i in range(0, 10, 2):\n",
    "    print(i)"
   ]
  },
  {
   "cell_type": "code",
   "execution_count": 5,
   "metadata": {},
   "outputs": [
    {
     "name": "stdout",
     "output_type": "stream",
     "text": [
      "0: Alice\n",
      "1: Bob\n",
      "2: Charlie\n"
     ]
    }
   ],
   "source": [
    "# 예제 5: index와 값 출력\n",
    "# list 를 순회할 때 index가 필요하면 enumerate() function를 사용할 수 있다.\n",
    "names = ['Alice', 'Bob', 'Charlie']\n",
    "for index, name in enumerate(names):\n",
    "    print(f\"{index}: {name}\")"
   ]
  },
  {
   "cell_type": "markdown",
   "metadata": {},
   "source": [
    "# f-string 이용방법법"
   ]
  },
  {
   "cell_type": "code",
   "execution_count": 6,
   "metadata": {},
   "outputs": [
    {
     "name": "stdout",
     "output_type": "stream",
     "text": [
      "My name is Alice and I am 25 years old.\n"
     ]
    }
   ],
   "source": [
    "name = \"Alice\"\n",
    "age = 25\n",
    "print(f\"My name is {name} and I am {age} years old.\")"
   ]
  },
  {
   "cell_type": "code",
   "execution_count": 7,
   "metadata": {},
   "outputs": [
    {
     "name": "stdout",
     "output_type": "stream",
     "text": [
      "Sum: 15, Product: 50\n"
     ]
    }
   ],
   "source": [
    "a = 10\n",
    "b = 5\n",
    "print(f\"Sum: {a + b}, Product: {a * b}\")"
   ]
  },
  {
   "cell_type": "code",
   "execution_count": 8,
   "metadata": {},
   "outputs": [
    {
     "name": "stdout",
     "output_type": "stream",
     "text": [
      "0\n",
      "1\n",
      "2\n",
      "3\n",
      "4\n"
     ]
    }
   ],
   "source": [
    "# 예제 : break 사용 (5가 나오면 반복 종료)\n",
    "for i in range(10):\n",
    "    if i == 5:\n",
    "        break\n",
    "    print(i)"
   ]
  },
  {
   "cell_type": "code",
   "execution_count": 9,
   "metadata": {},
   "outputs": [
    {
     "name": "stdout",
     "output_type": "stream",
     "text": [
      "0\n",
      "2\n",
      "4\n",
      "6\n",
      "8\n"
     ]
    }
   ],
   "source": [
    "# 예제 7: continue 사용 (짝수만 출력)\n",
    "for i in range(10):\n",
    "    if i % 2 == 1:\n",
    "        continue\n",
    "    print(i)"
   ]
  },
  {
   "cell_type": "code",
   "execution_count": 10,
   "metadata": {},
   "outputs": [
    {
     "name": "stdout",
     "output_type": "stream",
     "text": [
      "2 x 1 = 2\n",
      "2 x 2 = 4\n",
      "2 x 3 = 6\n",
      "2 x 4 = 8\n",
      "2 x 5 = 10\n",
      "2 x 6 = 12\n",
      "2 x 7 = 14\n",
      "2 x 8 = 16\n",
      "2 x 9 = 18\n",
      "\n",
      "3 x 1 = 3\n",
      "3 x 2 = 6\n",
      "3 x 3 = 9\n",
      "3 x 4 = 12\n",
      "3 x 5 = 15\n",
      "3 x 6 = 18\n",
      "3 x 7 = 21\n",
      "3 x 8 = 24\n",
      "3 x 9 = 27\n",
      "\n"
     ]
    }
   ],
   "source": [
    "for i in range(2, 4):   # i는 2부터 3까지 반복\n",
    "    for j in range(1, 10):  # j는 1부터 9까지 반복\n",
    "        print(f\"{i} x {j} = {i * j}\")  # 구구단 형식으로 출력\n",
    "    print()  # 각 단 끝나고 줄 바꿈"
   ]
  },
  {
   "cell_type": "markdown",
   "metadata": {},
   "source": [
    "1. List (리스트)\n",
    "\n",
    "정의: 리스트는 여러 개의 값을 순서대로 저장할 수 있는 **변경 가능(Mutable)**한 자료형입니다.\n",
    "✅ 리스트 특징\n",
    "순서가 있음 (Indexing 가능)\n",
    "수정, 추가, 삭제 가능 (Mutable)\n",
    "여러 종류의 자료형을 저장 가능"
   ]
  },
  {
   "cell_type": "code",
   "execution_count": 26,
   "metadata": {},
   "outputs": [
    {
     "name": "stdout",
     "output_type": "stream",
     "text": [
      "1\n",
      "True\n",
      "[2, 3]\n",
      "[3, 'Hello', True]\n"
     ]
    }
   ],
   "source": [
    "# 빈 리스트 생성\n",
    "my_list = []\n",
    "\n",
    "# 여러 요소를 포함한 리스트 생성\n",
    "my_list = [1, 2, 3, \"Hello\", True]\n",
    "\n",
    "# 리스트 요소 접근 (Indexing)\n",
    "print(my_list[0])  # list에서 순서는 첫번째 자료는 0 부터 시작함함\n",
    "print(my_list[-1]) # True\n",
    "print(my_list[1:3])\n",
    "print(my_list[-3:])"
   ]
  },
  {
   "cell_type": "code",
   "execution_count": null,
   "metadata": {},
   "outputs": [],
   "source": [
    "# 리스트에 요소 추가 (append, insert)\n",
    "my_list.append(\"Python\")   # 리스트 맨 뒤에 추가\n",
    "print(my_list)\n",
    "my_list.insert(1, \"World\") # 특정 위치에 추가\n",
    "print(my_list)\n",
    "\n",
    "# 리스트 요소 삭제 (remove, pop)\n",
    "my_list.remove(\"Hello\")  # 특정 값 삭제\n",
    "print(my_list)\n",
    "\n",
    "# 리스트 정렬 (sort, reverse)\n",
    "numbers = [3, 1, 4, 1, 5]\n",
    "numbers.sort()   # 오름차순 정렬\n",
    "print(numbers)\n",
    "\n",
    "numbers.reverse() # 내림차순 정렬\n",
    "print(numbers)\n"
   ]
  },
  {
   "cell_type": "markdown",
   "metadata": {},
   "source": [
    "2. Tuple (튜플)\n",
    "\n",
    "정의: 튜플은 리스트와 비슷하지만, 수정이 불가능(Immutable) 한 자료형입니다.\n",
    "✅ 튜플 특징\n",
    "순서가 있음 (Indexing 가능)\n",
    "수정, 추가, 삭제 불가능 (Immutable)\n",
    "리스트보다 속도가 빠르고 메모리 효율적"
   ]
  },
  {
   "cell_type": "code",
   "execution_count": null,
   "metadata": {},
   "outputs": [],
   "source": [
    "# 튜플 생성\n",
    "my_tuple = (1, 2, 3, \"Hello\", True)\n",
    "\n",
    "print(my_tuple[0])  # 1\n",
    "print(my_tuple[-1]) # True"
   ]
  },
  {
   "cell_type": "code",
   "execution_count": null,
   "metadata": {},
   "outputs": [],
   "source": [
    "# 튜플은 변경 불가능\n",
    "my_tuple[0] = 100  # ❌ 오류 발생! (TypeError)"
   ]
  },
  {
   "cell_type": "markdown",
   "metadata": {},
   "source": [
    "3. Dictionary (딕셔너리)\n",
    "정의: 딕셔너리는 키(Key)와 값(Value)의 쌍으로 이루어진 자료형입니다.\n",
    "\n",
    "✅ 딕셔너리 특징\n",
    "순서가 유지됨 (Python 3.7+ 이후부터)\n",
    "키(Key)는 고유해야 함 (중복 불가)\n",
    "값(Value)은 변경 가능 (Mutable)"
   ]
  },
  {
   "cell_type": "code",
   "execution_count": null,
   "metadata": {},
   "outputs": [],
   "source": [
    "# 빈 딕셔너리 생성\n",
    "my_dict = {}\n",
    "\n",
    "# 키-값 쌍을 포함한 딕셔너리 생성\n",
    "my_dict = {\n",
    "    \"name\": \"Alice\",\n",
    "    \"age\": 25,\n",
    "    \"city\": \"Seoul\"\n",
    "}"
   ]
  },
  {
   "cell_type": "code",
   "execution_count": null,
   "metadata": {},
   "outputs": [],
   "source": [
    "# 값 가져오기\n",
    "print(my_dict[\"name\"])  # Alice\n",
    "\n",
    "# 값 변경\n",
    "my_dict[\"age\"] = 32\n",
    "print(my_dict)\n",
    "\n",
    "# 새로운 키-값 추가\n",
    "my_dict[\"job\"] = \"Developer\"\n",
    "print(my_dict)"
   ]
  }
 ],
 "metadata": {
  "kernelspec": {
   "display_name": "base",
   "language": "python",
   "name": "python3"
  },
  "language_info": {
   "codemirror_mode": {
    "name": "ipython",
    "version": 3
   },
   "file_extension": ".py",
   "mimetype": "text/x-python",
   "name": "python",
   "nbconvert_exporter": "python",
   "pygments_lexer": "ipython3",
   "version": "3.12.7"
  }
 },
 "nbformat": 4,
 "nbformat_minor": 2
}
